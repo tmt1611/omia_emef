{
 "cells": [
  {
   "cell_type": "code",
   "execution_count": 1,
   "metadata": {},
   "outputs": [
    {
     "name": "stdout",
     "output_type": "stream",
     "text": [
      "Running GPU setup...\n",
      "Running general setup...\n",
      "Installing essential packages...\n",
      "Hit:1 http://archive.ubuntu.com/ubuntu jammy InRelease\n",
      "Hit:2 http://security.ubuntu.com/ubuntu jammy-security InRelease               \u001b[0m\n",
      "Hit:3 http://archive.ubuntu.com/ubuntu jammy-updates InRelease      \u001b[0m       \n",
      "Hit:4 http://archive.ubuntu.com/ubuntu jammy-backports InRelease    \n",
      "Hit:5 https://developer.download.nvidia.com/compute/cuda/repos/ubuntu2204/x86_64  InRelease\n",
      "Hit:6 https://ppa.launchpadcontent.net/deadsnakes/ppa/ubuntu jammy InRelease\n",
      "Reading package lists... Done\u001b[33m\u001b[33m\u001b[33m\u001b[33m\u001b[33m\n",
      "Building dependency tree... Done\n",
      "Reading state information... Done\n",
      "91 packages can be upgraded. Run 'apt list --upgradable' to see them.\n",
      "Reading package lists... Done\n",
      "Building dependency tree... Done\n",
      "Reading state information... Done\n",
      "file is already the newest version (1:5.41-3ubuntu0.1).\n",
      "tmux is already the newest version (3.2a-4ubuntu0.2).\n",
      "0 upgraded, 0 newly installed, 0 to remove and 91 not upgraded.\n",
      "Requirement already satisfied: pip in /usr/local/lib/python3.10/dist-packages (24.0)\n",
      "Requirement already satisfied: python-dotenv in /usr/local/lib/python3.10/dist-packages (1.0.1)\n",
      "Requirement already satisfied: ipykernel in /usr/local/lib/python3.10/dist-packages (6.29.4)\n",
      "Requirement already satisfied: ruff in /usr/local/lib/python3.10/dist-packages (0.4.7)\n",
      "Requirement already satisfied: comm>=0.1.1 in /usr/local/lib/python3.10/dist-packages (from ipykernel) (0.2.0)\n",
      "Requirement already satisfied: debugpy>=1.6.5 in /usr/local/lib/python3.10/dist-packages (from ipykernel) (1.8.0)\n",
      "Requirement already satisfied: ipython>=7.23.1 in /usr/local/lib/python3.10/dist-packages (from ipykernel) (8.17.2)\n",
      "Requirement already satisfied: jupyter-client>=6.1.12 in /usr/local/lib/python3.10/dist-packages (from ipykernel) (7.4.9)\n",
      "Requirement already satisfied: jupyter-core!=5.0.*,>=4.12 in /usr/local/lib/python3.10/dist-packages (from ipykernel) (5.5.0)\n",
      "Requirement already satisfied: matplotlib-inline>=0.1 in /usr/local/lib/python3.10/dist-packages (from ipykernel) (0.1.6)\n",
      "Requirement already satisfied: nest-asyncio in /usr/local/lib/python3.10/dist-packages (from ipykernel) (1.5.8)\n",
      "Requirement already satisfied: packaging in /usr/local/lib/python3.10/dist-packages (from ipykernel) (23.2)\n",
      "Requirement already satisfied: psutil in /usr/local/lib/python3.10/dist-packages (from ipykernel) (5.9.6)\n",
      "Requirement already satisfied: pyzmq>=24 in /usr/local/lib/python3.10/dist-packages (from ipykernel) (24.0.1)\n",
      "Requirement already satisfied: tornado>=6.1 in /usr/local/lib/python3.10/dist-packages (from ipykernel) (6.3.3)\n",
      "Requirement already satisfied: traitlets>=5.4.0 in /usr/local/lib/python3.10/dist-packages (from ipykernel) (5.13.0)\n",
      "Requirement already satisfied: decorator in /usr/local/lib/python3.10/dist-packages (from ipython>=7.23.1->ipykernel) (5.1.1)\n",
      "Requirement already satisfied: jedi>=0.16 in /usr/local/lib/python3.10/dist-packages (from ipython>=7.23.1->ipykernel) (0.19.1)\n",
      "Requirement already satisfied: prompt-toolkit!=3.0.37,<3.1.0,>=3.0.30 in /usr/local/lib/python3.10/dist-packages (from ipython>=7.23.1->ipykernel) (3.0.39)\n",
      "Requirement already satisfied: pygments>=2.4.0 in /usr/local/lib/python3.10/dist-packages (from ipython>=7.23.1->ipykernel) (2.16.1)\n",
      "Requirement already satisfied: stack-data in /usr/local/lib/python3.10/dist-packages (from ipython>=7.23.1->ipykernel) (0.6.3)\n",
      "Requirement already satisfied: exceptiongroup in /usr/local/lib/python3.10/dist-packages (from ipython>=7.23.1->ipykernel) (1.1.3)\n",
      "Requirement already satisfied: pexpect>4.3 in /usr/local/lib/python3.10/dist-packages (from ipython>=7.23.1->ipykernel) (4.8.0)\n",
      "Requirement already satisfied: entrypoints in /usr/local/lib/python3.10/dist-packages (from jupyter-client>=6.1.12->ipykernel) (0.4)\n",
      "Requirement already satisfied: python-dateutil>=2.8.2 in /usr/local/lib/python3.10/dist-packages (from jupyter-client>=6.1.12->ipykernel) (2.8.2)\n",
      "Requirement already satisfied: platformdirs>=2.5 in /usr/local/lib/python3.10/dist-packages (from jupyter-core!=5.0.*,>=4.12->ipykernel) (3.11.0)\n",
      "Requirement already satisfied: parso<0.9.0,>=0.8.3 in /usr/local/lib/python3.10/dist-packages (from jedi>=0.16->ipython>=7.23.1->ipykernel) (0.8.3)\n",
      "Requirement already satisfied: ptyprocess>=0.5 in /usr/local/lib/python3.10/dist-packages (from pexpect>4.3->ipython>=7.23.1->ipykernel) (0.7.0)\n",
      "Requirement already satisfied: wcwidth in /usr/local/lib/python3.10/dist-packages (from prompt-toolkit!=3.0.37,<3.1.0,>=3.0.30->ipython>=7.23.1->ipykernel) (0.2.9)\n",
      "Requirement already satisfied: six>=1.5 in /usr/lib/python3/dist-packages (from python-dateutil>=2.8.2->jupyter-client>=6.1.12->ipykernel) (1.16.0)\n",
      "Requirement already satisfied: executing>=1.2.0 in /usr/local/lib/python3.10/dist-packages (from stack-data->ipython>=7.23.1->ipykernel) (2.0.1)\n",
      "Requirement already satisfied: asttokens>=2.1.0 in /usr/local/lib/python3.10/dist-packages (from stack-data->ipython>=7.23.1->ipykernel) (2.4.1)\n",
      "Requirement already satisfied: pure-eval in /usr/local/lib/python3.10/dist-packages (from stack-data->ipython>=7.23.1->ipykernel) (0.2.2)\n",
      "\u001b[33mWARNING: Running pip as the 'root' user can result in broken permissions and conflicting behaviour with the system package manager. It is recommended to use a virtual environment instead: https://pip.pypa.io/warnings/venv\u001b[0m\u001b[33m\n",
      "\u001b[0mRunning GitHub setup...\n",
      "cp: cannot stat './.ssh/config': No such file or directory\n",
      "cp: cannot stat '../github-ssh-key*': No such file or directory\n",
      "chmod: cannot access '/root/.ssh/github-ssh-key': No such file or directory\n",
      "Requirement already satisfied: dominate in /usr/local/lib/python3.10/dist-packages (2.9.1)\n",
      "Requirement already satisfied: visdom in /usr/local/lib/python3.10/dist-packages (0.2.4)\n",
      "Requirement already satisfied: scipy in /usr/local/lib/python3.10/dist-packages (1.13.1)\n",
      "Requirement already satisfied: pandas in /usr/local/lib/python3.10/dist-packages (2.2.2)\n",
      "Requirement already satisfied: matplotlib in /usr/local/lib/python3.10/dist-packages (3.9.0)\n",
      "Requirement already satisfied: lpips in /usr/local/lib/python3.10/dist-packages (0.1.4)\n",
      "Requirement already satisfied: opencv-python in /usr/local/lib/python3.10/dist-packages (4.10.0.82)\n",
      "Requirement already satisfied: scikit-image in /usr/local/lib/python3.10/dist-packages (0.23.2)\n",
      "Requirement already satisfied: seaborn in /usr/local/lib/python3.10/dist-packages (0.13.2)\n",
      "Requirement already satisfied: numpy>=1.8 in /usr/local/lib/python3.10/dist-packages (from visdom) (1.24.1)\n",
      "Requirement already satisfied: requests in /usr/local/lib/python3.10/dist-packages (from visdom) (2.31.0)\n",
      "Requirement already satisfied: tornado in /usr/local/lib/python3.10/dist-packages (from visdom) (6.3.3)\n",
      "Requirement already satisfied: six in /usr/lib/python3/dist-packages (from visdom) (1.16.0)\n",
      "Requirement already satisfied: jsonpatch in /usr/local/lib/python3.10/dist-packages (from visdom) (1.33)\n",
      "Requirement already satisfied: websocket-client in /usr/local/lib/python3.10/dist-packages (from visdom) (1.6.4)\n",
      "Requirement already satisfied: networkx in /usr/local/lib/python3.10/dist-packages (from visdom) (3.0)\n",
      "Requirement already satisfied: pillow in /usr/local/lib/python3.10/dist-packages (from visdom) (9.3.0)\n",
      "Requirement already satisfied: python-dateutil>=2.8.2 in /usr/local/lib/python3.10/dist-packages (from pandas) (2.8.2)\n",
      "Requirement already satisfied: pytz>=2020.1 in /usr/local/lib/python3.10/dist-packages (from pandas) (2024.1)\n",
      "Requirement already satisfied: tzdata>=2022.7 in /usr/local/lib/python3.10/dist-packages (from pandas) (2024.1)\n",
      "Requirement already satisfied: contourpy>=1.0.1 in /usr/local/lib/python3.10/dist-packages (from matplotlib) (1.2.1)\n",
      "Requirement already satisfied: cycler>=0.10 in /usr/local/lib/python3.10/dist-packages (from matplotlib) (0.12.1)\n",
      "Requirement already satisfied: fonttools>=4.22.0 in /usr/local/lib/python3.10/dist-packages (from matplotlib) (4.53.0)\n",
      "Requirement already satisfied: kiwisolver>=1.3.1 in /usr/local/lib/python3.10/dist-packages (from matplotlib) (1.4.5)\n",
      "Requirement already satisfied: packaging>=20.0 in /usr/local/lib/python3.10/dist-packages (from matplotlib) (23.2)\n",
      "Requirement already satisfied: pyparsing>=2.3.1 in /usr/lib/python3/dist-packages (from matplotlib) (2.4.7)\n",
      "Requirement already satisfied: torch>=0.4.0 in /usr/local/lib/python3.10/dist-packages (from lpips) (2.1.0+cu118)\n",
      "Requirement already satisfied: torchvision>=0.2.1 in /usr/local/lib/python3.10/dist-packages (from lpips) (0.16.0+cu118)\n",
      "Requirement already satisfied: tqdm>=4.28.1 in /usr/local/lib/python3.10/dist-packages (from lpips) (4.66.4)\n",
      "Requirement already satisfied: imageio>=2.33 in /usr/local/lib/python3.10/dist-packages (from scikit-image) (2.34.1)\n",
      "Requirement already satisfied: tifffile>=2022.8.12 in /usr/local/lib/python3.10/dist-packages (from scikit-image) (2024.5.22)\n",
      "Requirement already satisfied: lazy-loader>=0.4 in /usr/local/lib/python3.10/dist-packages (from scikit-image) (0.4)\n",
      "Requirement already satisfied: filelock in /usr/local/lib/python3.10/dist-packages (from torch>=0.4.0->lpips) (3.9.0)\n",
      "Requirement already satisfied: typing-extensions in /usr/local/lib/python3.10/dist-packages (from torch>=0.4.0->lpips) (4.4.0)\n",
      "Requirement already satisfied: sympy in /usr/local/lib/python3.10/dist-packages (from torch>=0.4.0->lpips) (1.12)\n",
      "Requirement already satisfied: jinja2 in /usr/local/lib/python3.10/dist-packages (from torch>=0.4.0->lpips) (3.1.2)\n",
      "Requirement already satisfied: fsspec in /usr/local/lib/python3.10/dist-packages (from torch>=0.4.0->lpips) (2023.4.0)\n",
      "Requirement already satisfied: triton==2.1.0 in /usr/local/lib/python3.10/dist-packages (from torch>=0.4.0->lpips) (2.1.0)\n",
      "Requirement already satisfied: jsonpointer>=1.9 in /usr/local/lib/python3.10/dist-packages (from jsonpatch->visdom) (2.4)\n",
      "Requirement already satisfied: charset-normalizer<4,>=2 in /usr/local/lib/python3.10/dist-packages (from requests->visdom) (2.1.1)\n",
      "Requirement already satisfied: idna<4,>=2.5 in /usr/local/lib/python3.10/dist-packages (from requests->visdom) (3.4)\n",
      "Requirement already satisfied: urllib3<3,>=1.21.1 in /usr/local/lib/python3.10/dist-packages (from requests->visdom) (1.26.13)\n",
      "Requirement already satisfied: certifi>=2017.4.17 in /usr/local/lib/python3.10/dist-packages (from requests->visdom) (2022.12.7)\n",
      "Requirement already satisfied: MarkupSafe>=2.0 in /usr/local/lib/python3.10/dist-packages (from jinja2->torch>=0.4.0->lpips) (2.1.2)\n",
      "Requirement already satisfied: mpmath>=0.19 in /usr/local/lib/python3.10/dist-packages (from sympy->torch>=0.4.0->lpips) (1.3.0)\n",
      "\u001b[33mWARNING: Running pip as the 'root' user can result in broken permissions and conflicting behaviour with the system package manager. It is recommended to use a virtual environment instead: https://pip.pypa.io/warnings/venv\u001b[0m\u001b[33m\n",
      "\u001b[0mDone setup gpu\n"
     ]
    }
   ],
   "source": [
    "!sh /workspace/pix2pix/setup.sh gpu"
   ]
  },
  {
   "cell_type": "code",
   "execution_count": 2,
   "metadata": {},
   "outputs": [
    {
     "name": "stdout",
     "output_type": "stream",
     "text": [
      "Cloning into 'EMEF'...\n",
      "remote: Enumerating objects: 105, done.\u001b[K\n",
      "remote: Counting objects: 100% (105/105), done.\u001b[K\n",
      "remote: Compressing objects: 100% (97/97), done.\u001b[K\n",
      "remote: Total 105 (delta 37), reused 43 (delta 6), pack-reused 0\u001b[K\n",
      "Receiving objects: 100% (105/105), 1.04 MiB | 2.53 MiB/s, done.\n",
      "Resolving deltas: 100% (37/37), done.\n"
     ]
    }
   ],
   "source": [
    "!git clone https://github.com/medalwill/EMEF"
   ]
  },
  {
   "cell_type": "code",
   "execution_count": 3,
   "metadata": {},
   "outputs": [
    {
     "name": "stdout",
     "output_type": "stream",
     "text": [
      "/workspace/pix2pix/notebooks/Dat/10/EMEF\n"
     ]
    },
    {
     "name": "stderr",
     "output_type": "stream",
     "text": [
      "/usr/local/lib/python3.10/dist-packages/IPython/core/magics/osm.py:417: UserWarning: using dhist requires you to install the `pickleshare` library.\n",
      "  self.shell.db['dhist'] = compress_dhist(dhist)[-100:]\n"
     ]
    }
   ],
   "source": [
    "%cd EMEF"
   ]
  },
  {
   "cell_type": "code",
   "execution_count": 6,
   "metadata": {},
   "outputs": [
    {
     "name": "stdout",
     "output_type": "stream",
     "text": [
      "Requirement already satisfied: torch in /usr/local/lib/python3.10/dist-packages (2.1.0+cu118)\n",
      "Requirement already satisfied: torchvision in /usr/local/lib/python3.10/dist-packages (0.16.0+cu118)\n",
      "Requirement already satisfied: torchaudio in /usr/local/lib/python3.10/dist-packages (2.1.0+cu118)\n",
      "Requirement already satisfied: filelock in /usr/local/lib/python3.10/dist-packages (from torch) (3.9.0)\n",
      "Requirement already satisfied: typing-extensions in /usr/local/lib/python3.10/dist-packages (from torch) (4.4.0)\n",
      "Requirement already satisfied: sympy in /usr/local/lib/python3.10/dist-packages (from torch) (1.12)\n",
      "Requirement already satisfied: networkx in /usr/local/lib/python3.10/dist-packages (from torch) (3.0)\n",
      "Requirement already satisfied: jinja2 in /usr/local/lib/python3.10/dist-packages (from torch) (3.1.2)\n",
      "Requirement already satisfied: fsspec in /usr/local/lib/python3.10/dist-packages (from torch) (2023.4.0)\n",
      "Requirement already satisfied: triton==2.1.0 in /usr/local/lib/python3.10/dist-packages (from torch) (2.1.0)\n",
      "Requirement already satisfied: numpy in /usr/local/lib/python3.10/dist-packages (from torchvision) (1.24.1)\n",
      "Requirement already satisfied: requests in /usr/local/lib/python3.10/dist-packages (from torchvision) (2.31.0)\n",
      "Requirement already satisfied: pillow!=8.3.*,>=5.3.0 in /usr/local/lib/python3.10/dist-packages (from torchvision) (9.3.0)\n",
      "Requirement already satisfied: MarkupSafe>=2.0 in /usr/local/lib/python3.10/dist-packages (from jinja2->torch) (2.1.2)\n",
      "Requirement already satisfied: charset-normalizer<4,>=2 in /usr/local/lib/python3.10/dist-packages (from requests->torchvision) (2.1.1)\n",
      "Requirement already satisfied: idna<4,>=2.5 in /usr/local/lib/python3.10/dist-packages (from requests->torchvision) (3.4)\n",
      "Requirement already satisfied: urllib3<3,>=1.21.1 in /usr/local/lib/python3.10/dist-packages (from requests->torchvision) (1.26.13)\n",
      "Requirement already satisfied: certifi>=2017.4.17 in /usr/local/lib/python3.10/dist-packages (from requests->torchvision) (2022.12.7)\n",
      "Requirement already satisfied: mpmath>=0.19 in /usr/local/lib/python3.10/dist-packages (from sympy->torch) (1.3.0)\n",
      "\u001b[33mWARNING: Running pip as the 'root' user can result in broken permissions and conflicting behaviour with the system package manager. It is recommended to use a virtual environment instead: https://pip.pypa.io/warnings/venv\u001b[0m\u001b[33m\n",
      "\u001b[0m"
     ]
    }
   ],
   "source": [
    "!pip install torch torchvision torchaudio"
   ]
  },
  {
   "cell_type": "code",
   "execution_count": 8,
   "metadata": {},
   "outputs": [
    {
     "name": "stdout",
     "output_type": "stream",
     "text": [
      "Requirement already satisfied: dominate in /usr/local/lib/python3.10/dist-packages (from -r requirements.txt (line 1)) (2.9.1)\n",
      "Requirement already satisfied: opencv-python in /usr/local/lib/python3.10/dist-packages (from -r requirements.txt (line 2)) (4.10.0.82)\n",
      "Requirement already satisfied: visdom in /usr/local/lib/python3.10/dist-packages (from -r requirements.txt (line 3)) (0.2.4)\n",
      "Requirement already satisfied: scikit-image in /usr/local/lib/python3.10/dist-packages (from -r requirements.txt (line 4)) (0.23.2)\n",
      "Collecting pytorch_msssim (from -r requirements.txt (line 5))\n",
      "  Downloading pytorch_msssim-1.0.0-py3-none-any.whl.metadata (8.0 kB)\n",
      "Requirement already satisfied: numpy>=1.21.2 in /usr/local/lib/python3.10/dist-packages (from opencv-python->-r requirements.txt (line 2)) (1.24.1)\n",
      "Requirement already satisfied: scipy in /usr/local/lib/python3.10/dist-packages (from visdom->-r requirements.txt (line 3)) (1.13.1)\n",
      "Requirement already satisfied: requests in /usr/local/lib/python3.10/dist-packages (from visdom->-r requirements.txt (line 3)) (2.31.0)\n",
      "Requirement already satisfied: tornado in /usr/local/lib/python3.10/dist-packages (from visdom->-r requirements.txt (line 3)) (6.3.3)\n",
      "Requirement already satisfied: six in /usr/lib/python3/dist-packages (from visdom->-r requirements.txt (line 3)) (1.16.0)\n",
      "Requirement already satisfied: jsonpatch in /usr/local/lib/python3.10/dist-packages (from visdom->-r requirements.txt (line 3)) (1.33)\n",
      "Requirement already satisfied: websocket-client in /usr/local/lib/python3.10/dist-packages (from visdom->-r requirements.txt (line 3)) (1.6.4)\n",
      "Requirement already satisfied: networkx in /usr/local/lib/python3.10/dist-packages (from visdom->-r requirements.txt (line 3)) (3.0)\n",
      "Requirement already satisfied: pillow in /usr/local/lib/python3.10/dist-packages (from visdom->-r requirements.txt (line 3)) (9.3.0)\n",
      "Requirement already satisfied: imageio>=2.33 in /usr/local/lib/python3.10/dist-packages (from scikit-image->-r requirements.txt (line 4)) (2.34.1)\n",
      "Requirement already satisfied: tifffile>=2022.8.12 in /usr/local/lib/python3.10/dist-packages (from scikit-image->-r requirements.txt (line 4)) (2024.5.22)\n",
      "Requirement already satisfied: packaging>=21 in /usr/local/lib/python3.10/dist-packages (from scikit-image->-r requirements.txt (line 4)) (23.2)\n",
      "Requirement already satisfied: lazy-loader>=0.4 in /usr/local/lib/python3.10/dist-packages (from scikit-image->-r requirements.txt (line 4)) (0.4)\n",
      "Requirement already satisfied: torch in /usr/local/lib/python3.10/dist-packages (from pytorch_msssim->-r requirements.txt (line 5)) (2.1.0+cu118)\n",
      "Requirement already satisfied: jsonpointer>=1.9 in /usr/local/lib/python3.10/dist-packages (from jsonpatch->visdom->-r requirements.txt (line 3)) (2.4)\n",
      "Requirement already satisfied: charset-normalizer<4,>=2 in /usr/local/lib/python3.10/dist-packages (from requests->visdom->-r requirements.txt (line 3)) (2.1.1)\n",
      "Requirement already satisfied: idna<4,>=2.5 in /usr/local/lib/python3.10/dist-packages (from requests->visdom->-r requirements.txt (line 3)) (3.4)\n",
      "Requirement already satisfied: urllib3<3,>=1.21.1 in /usr/local/lib/python3.10/dist-packages (from requests->visdom->-r requirements.txt (line 3)) (1.26.13)\n",
      "Requirement already satisfied: certifi>=2017.4.17 in /usr/local/lib/python3.10/dist-packages (from requests->visdom->-r requirements.txt (line 3)) (2022.12.7)\n",
      "Requirement already satisfied: filelock in /usr/local/lib/python3.10/dist-packages (from torch->pytorch_msssim->-r requirements.txt (line 5)) (3.9.0)\n",
      "Requirement already satisfied: typing-extensions in /usr/local/lib/python3.10/dist-packages (from torch->pytorch_msssim->-r requirements.txt (line 5)) (4.4.0)\n",
      "Requirement already satisfied: sympy in /usr/local/lib/python3.10/dist-packages (from torch->pytorch_msssim->-r requirements.txt (line 5)) (1.12)\n",
      "Requirement already satisfied: jinja2 in /usr/local/lib/python3.10/dist-packages (from torch->pytorch_msssim->-r requirements.txt (line 5)) (3.1.2)\n",
      "Requirement already satisfied: fsspec in /usr/local/lib/python3.10/dist-packages (from torch->pytorch_msssim->-r requirements.txt (line 5)) (2023.4.0)\n",
      "Requirement already satisfied: triton==2.1.0 in /usr/local/lib/python3.10/dist-packages (from torch->pytorch_msssim->-r requirements.txt (line 5)) (2.1.0)\n",
      "Requirement already satisfied: MarkupSafe>=2.0 in /usr/local/lib/python3.10/dist-packages (from jinja2->torch->pytorch_msssim->-r requirements.txt (line 5)) (2.1.2)\n",
      "Requirement already satisfied: mpmath>=0.19 in /usr/local/lib/python3.10/dist-packages (from sympy->torch->pytorch_msssim->-r requirements.txt (line 5)) (1.3.0)\n",
      "Downloading pytorch_msssim-1.0.0-py3-none-any.whl (7.7 kB)\n",
      "Installing collected packages: pytorch_msssim\n",
      "Successfully installed pytorch_msssim-1.0.0\n",
      "\u001b[33mWARNING: Running pip as the 'root' user can result in broken permissions and conflicting behaviour with the system package manager. It is recommended to use a virtual environment instead: https://pip.pypa.io/warnings/venv\u001b[0m\u001b[33m\n",
      "\u001b[0m"
     ]
    }
   ],
   "source": [
    "!pip install -r requirements.txt"
   ]
  },
  {
   "cell_type": "code",
   "execution_count": 9,
   "metadata": {},
   "outputs": [
    {
     "name": "stdout",
     "output_type": "stream",
     "text": [
      "--2024-06-05 10:47:01--  https://drive.usercontent.google.com/download?id=1RY3qARQXVJK2CyQ72GHECDrLy5R6rpW4&export=download&authuser=0&confirm=t&uuid=8b889bca-a06b-41ce-9724-301a4f10d288&at=APZUnTVdLmd4yyCYhQkCl6u3LeL1:1717584407046\n",
      "Resolving drive.usercontent.google.com (drive.usercontent.google.com)... 142.250.185.65, 2a00:1450:4001:82a::2001\n",
      "Connecting to drive.usercontent.google.com (drive.usercontent.google.com)|142.250.185.65|:443... connected.\n",
      "HTTP request sent, awaiting response... 200 OK\n",
      "Length: 331819649 (316M) [application/octet-stream]\n",
      "Saving to: ‘latest_net_G.pth’\n",
      "\n",
      "latest_net_G.pth    100%[===================>] 316.45M  10.9MB/s    in 33s     \n",
      "\n",
      "2024-06-05 10:47:35 (9.65 MB/s) - ‘latest_net_G.pth’ saved [331819649/331819649]\n",
      "\n"
     ]
    }
   ],
   "source": [
    "# pretrained\n",
    "!wget --header=\"Host: drive.usercontent.google.com\" --header=\"User-Agent: Mozilla/5.0 (Windows NT 10.0; Win64; x64) AppleWebKit/537.36 (KHTML, like Gecko) Chrome/125.0.0.0 Safari/537.36\" --header=\"Accept: text/html,application/xhtml+xml,application/xml;q=0.9,image/avif,image/webp,image/apng,*/*;q=0.8,application/signed-exchange;v=b3;q=0.7\" --header=\"Accept-Language: en-US,en;q=0.9,vi;q=0.8,fr;q=0.7\" --header=\"Cookie: HSID=AQhDlpWc7SNSu_jh_; SSID=AI79y8qRwSfA64tYE; APISID=ODligCOOj2R66HTZ/A1Rc8T6NUvrD7SzAF; SAPISID=ADUSIWKhThEdPNaH/AnPJBwVpFR6_pF1l3; __Secure-1PAPISID=ADUSIWKhThEdPNaH/AnPJBwVpFR6_pF1l3; __Secure-3PAPISID=ADUSIWKhThEdPNaH/AnPJBwVpFR6_pF1l3; OGPC=19015969-1:19010599-1:; OGP=-19015969:-19010599:; __Secure-BUCKET=CI4E; SID=g.a000kQgKyCIGbx_qufNoSEU9DXrRSIuwm7DxRnbp4vL-stXDIITyhFYv1o0SvLF2nKkE6eXK5wACgYKAaUSARUSFQHGX2MifN8L9qNE2iU-m6H-hhrFHBoVAUF8yKoJ-32dfF-t8cinuKg8K2Wg0076; __Secure-1PSID=g.a000kQgKyCIGbx_qufNoSEU9DXrRSIuwm7DxRnbp4vL-stXDIITyU4KZ4bmtx3MX3sM64S2VnwACgYKAYYSARUSFQHGX2MioLAFB_ZvR7t-BZ0lbK03rBoVAUF8yKr3fW5g5Fd9u-nfEZV3ZxTM0076; __Secure-3PSID=g.a000kQgKyCIGbx_qufNoSEU9DXrRSIuwm7DxRnbp4vL-stXDIITyRZ0PYlF4Bl_4a220zHs-BgACgYKAZQSARUSFQHGX2Miqi8_tlqGOsNGl2KBkKee-hoVAUF8yKplinagpI86LUyIvYCKxHm10076; AEC=AQTF6Hx3qwK-VAMFCEjrR_EaVpqyURD0Q-WNSezOjyU_aRTJ9VK_i9rkYw; SEARCH_SAMESITE=CgQIp5sB; NID=514=OUZ7gBUd_8rtrl2jXhHMe1lGPVGyho21ukWI_V668cjM9q_YfiTGdN_Z9ISae0GL1vLFn31cWtofJ-ImrDd_3LYEzb5NNPW5k7T01MReYAY9erFNFV_2xIdH1Cnko7qlicdzpW-JpJ-ua1EY0taQXBVrwoxBv9VKiEnrx3hRiXCA2VJAAOC3Ouqbo-TlZtOteH-HIt4dW75r7GjnrvHRmX_HwL2V-W19fuTAHNdJs4umSCj_JqkesPRaArO7JLZfLWhM2u84zKM6SFbK9uH-tPZ1Z5dead6kyGcQMyq2YOdPD86VIyhh1_CzUMayF_3WavuI52p9iXk7kBV_6e2IaH7YVrXTt62APg3VSJOAGjBgLHU63Gj3wneC9sCZs1av0akJGJZJaC-c6pfZlUD3pf_zbxLn64b8U-IHgMrxNmtF5RkHkcE; __Secure-ENID=20.SE=EmWOYq-A_5N9bXgiXxJQ6GWeYsaL0NpCJDQGJLyGXjDgtAIppgAVPQPeGJvkr0yqlru9aqhckrhH3LWefyRbj8C2vgU90HVps56b20pr3ilk2NABmY8qCFRp2wl86W5qmDJVI3aD4ZN4m7yvyv3uRibovbjq-KhGV0_LNlSjikz6rG6_Okt0rdr41dvIjQ2BbhZBpHRuVTy0kRt36RNvu5jgvDwTpzET2nD0nGwNdkeej5W9-933D3Zhj_uR9DV6-_1PprVIf38m8pDInxz-uYGgoSLRCu6GmxYX4q5UUZhxpCEYy5_954o7JfFOrx2qU46W8ZtjWX08zLTVy-nBnMg-V6oTGaZymyvfBOPhix6u; __Secure-1PSIDTS=sidts-CjEB3EgAEgCVxTZUDnMDCWQPkFfDypj7UGYuBKXHXy_pLoYuV_O9yspovh8mdLg6twvZEAA; __Secure-3PSIDTS=sidts-CjEB3EgAEgCVxTZUDnMDCWQPkFfDypj7UGYuBKXHXy_pLoYuV_O9yspovh8mdLg6twvZEAA; SIDCC=AKEyXzU0zL9cvnXjuwuLrqEywmG3JqFxmNjcnmNz6ZEUmzYWKW-YNX5YiSDGHGHOmh9Pfm1f02w; __Secure-1PSIDCC=AKEyXzV_Np3gDDLC806LXlvo7pwqRXbg_XTm3ZWHJRAINtZfWu2096dIGDPp87rrbGHWdZSc9Lnr; __Secure-3PSIDCC=AKEyXzVYpgxecl5llvWbGFPcr5nffjTKvy-1Ftu-WyO4ym6S0v_mBtMUj_MOSiq8ycPqipJzhJc\" --header=\"Connection: keep-alive\" \"https://drive.usercontent.google.com/download?id=1RY3qARQXVJK2CyQ72GHECDrLy5R6rpW4&export=download&authuser=0&confirm=t&uuid=8b889bca-a06b-41ce-9724-301a4f10d288&at=APZUnTVdLmd4yyCYhQkCl6u3LeL1:1717584407046\" -c -O 'latest_net_G.pth'"
   ]
  },
  {
   "cell_type": "code",
   "execution_count": 10,
   "metadata": {},
   "outputs": [
    {
     "name": "stdout",
     "output_type": "stream",
     "text": [
      "LICENSE    eval.py\t     models\t  requirements.txt  util\n",
      "README.md  figures\t     optimize.py  torch_utils\t    validation.py\n",
      "data\t   latest_net_G.pth  options\t  train.py\n"
     ]
    }
   ],
   "source": [
    "!ls"
   ]
  },
  {
   "cell_type": "code",
   "execution_count": 12,
   "metadata": {},
   "outputs": [
    {
     "name": "stdout",
     "output_type": "stream",
     "text": [
      "usage: eval.py [-h] --dataroot DATAROOT [--name NAME] [--gpu_ids GPU_IDS]\n",
      "               [--checkpoints_dir CHECKPOINTS_DIR] [--model MODEL]\n",
      "               [--input_nc INPUT_NC] [--output_nc OUTPUT_NC] [--ngf NGF]\n",
      "               [--ndf NDF] [--netD NETD] [--netG NETG]\n",
      "               [--n_layers_D N_LAYERS_D] [--norm NORM] [--init_type INIT_TYPE]\n",
      "               [--init_gain INIT_GAIN] [--no_dropout]\n",
      "               [--dataset_mode DATASET_MODE] [--direction DIRECTION]\n",
      "               [--serial_batches] [--num_threads NUM_THREADS]\n",
      "               [--batch_size BATCH_SIZE] [--load_size LOAD_SIZE]\n",
      "               [--crop_size CROP_SIZE] [--max_dataset_size MAX_DATASET_SIZE]\n",
      "               [--preprocess PREPROCESS] [--no_flip]\n",
      "               [--display_winsize DISPLAY_WINSIZE] [--epoch EPOCH]\n",
      "               [--load_iter LOAD_ITER] [--verbose] [--suffix SUFFIX]\n",
      "               [--texture_size TEXTURE_SIZE] [--ntest NTEST]\n",
      "               [--results_dir RESULTS_DIR] [--aspect_ratio ASPECT_RATIO]\n",
      "               [--phase PHASE] [--eval] [--num_test NUM_TEST]\n",
      "               [--use_sym USE_SYM] [--pred_diff PRED_DIFF]\n",
      "eval.py: error: the following arguments are required: --dataroot\n"
     ]
    }
   ],
   "source": [
    "!python eval.py"
   ]
  },
  {
   "cell_type": "code",
   "execution_count": 21,
   "metadata": {},
   "outputs": [
    {
     "name": "stdout",
     "output_type": "stream",
     "text": [
      "----------------- Options ---------------\n",
      "             aspect_ratio: 1.0                           \n",
      "               batch_size: 1                             \n",
      "          checkpoints_dir: ./latest_net_G.pth            \t[default: ./checkpoints]\n",
      "                crop_size: 256                           \n",
      "                 dataroot: test_data                     \t[default: None]\n",
      "             dataset_mode: EVA                           \n",
      "                direction: AtoB                          \n",
      "          display_winsize: 256                           \n",
      "                    epoch: latest                        \n",
      "                     eval: False                         \n",
      "                  gpu_ids: 0                             \n",
      "                init_gain: 0.02                          \n",
      "                init_type: normal                        \n",
      "                 input_nc: 3                             \n",
      "                  isTrain: False                         \t[default: None]\n",
      "                load_iter: 0                             \t[default: 0]\n",
      "                load_size: 256                           \n",
      "         max_dataset_size: inf                           \n",
      "                    model: eval                          \t[default: test]\n",
      "               n_layers_D: 6                             \n",
      "                     name: eval                          \t[default: experiment_name]\n",
      "                      ndf: 64                            \n",
      "                     netD: n_layers                      \n",
      "                     netG: unet_512                      \n",
      "                      ngf: 64                            \n",
      "               no_dropout: False                         \n",
      "                  no_flip: False                         \n",
      "                     norm: batch                         \n",
      "                    ntest: inf                           \n",
      "                 num_test: 50                            \n",
      "              num_threads: 4                             \n",
      "                output_nc: 3                             \n",
      "                    phase: test                          \n",
      "                pred_diff: False                         \n",
      "               preprocess: resize_and_crop               \n",
      "              results_dir: ./results/                    \n",
      "           serial_batches: False                         \n",
      "                   suffix:                               \n",
      "             texture_size: 512                           \n",
      "                  use_sym: False                         \n",
      "                  verbose: False                         \n",
      "----------------- End -------------------\n",
      "dataset [EVADataset] was created\n",
      "model [EvalModel] was created\n",
      "processing (0000)-th image... ['chairs']\n",
      "tensor(0.7525, device='cuda:0')\n",
      "MEF-SSIM = 0.7524622082710266\n"
     ]
    }
   ],
   "source": [
    "!python eval.py \\\n",
    "    --dataroot test_data \\\n",
    "    --name eval \\\n",
    "    --model eval \\\n",
    "    --phase test \\\n",
    "    --checkpoints_dir ./latest_net_G.pth \\\n",
    "    --epoch latest"
   ]
  },
  {
   "cell_type": "code",
   "execution_count": 22,
   "metadata": {},
   "outputs": [
    {
     "name": "stdout",
     "output_type": "stream",
     "text": [
      "LICENSE    figures\t     options\t       torch_utils\n",
      "README.md  latest_net_G.pth  requirements.txt  train.py\n",
      "data\t   models\t     results\t       util\n",
      "eval.py    optimize.py\t     test_data\t       validation.py\n"
     ]
    }
   ],
   "source": [
    "!ls"
   ]
  },
  {
   "cell_type": "code",
   "execution_count": 23,
   "metadata": {},
   "outputs": [
    {
     "name": "stdout",
     "output_type": "stream",
     "text": [
      "/workspace/pix2pix/notebooks/Dat/10\n"
     ]
    },
    {
     "name": "stderr",
     "output_type": "stream",
     "text": [
      "/usr/local/lib/python3.10/dist-packages/IPython/core/magics/osm.py:417: UserWarning: using dhist requires you to install the `pickleshare` library.\n",
      "  self.shell.db['dhist'] = compress_dhist(dhist)[-100:]\n"
     ]
    }
   ],
   "source": [
    "%cd .."
   ]
  },
  {
   "cell_type": "code",
   "execution_count": 26,
   "metadata": {},
   "outputs": [
    {
     "name": "stdout",
     "output_type": "stream",
     "text": [
      "Cloning into 'EMEF_new'...\n",
      "remote: Enumerating objects: 105, done.\u001b[K\n",
      "remote: Counting objects: 100% (105/105), done.\u001b[K\n",
      "remote: Compressing objects: 100% (97/97), done.\u001b[K\n",
      "remote: Total 105 (delta 37), reused 43 (delta 6), pack-reused 0\u001b[K\n",
      "Receiving objects: 100% (105/105), 1.04 MiB | 4.23 MiB/s, done.\n",
      "Resolving deltas: 100% (37/37), done.\n"
     ]
    }
   ],
   "source": [
    "! git clone https://github.com/quocdat-le-insacvl/EMEF EMEF_new"
   ]
  },
  {
   "cell_type": "code",
   "execution_count": 29,
   "metadata": {},
   "outputs": [
    {
     "name": "stdout",
     "output_type": "stream",
     "text": [
      "/workspace/pix2pix/notebooks/Dat/10/EMEF_new\n",
      "LICENSE    eval.py  optimize.py  requirements.txt  train.py\n",
      "README.md  figures  options\t test_data\t   util\n",
      "data\t   models   real_data\t torch_utils\t   validation.py\n"
     ]
    },
    {
     "name": "stderr",
     "output_type": "stream",
     "text": [
      "/usr/local/lib/python3.10/dist-packages/IPython/core/magics/osm.py:417: UserWarning: using dhist requires you to install the `pickleshare` library.\n",
      "  self.shell.db['dhist'] = compress_dhist(dhist)[-100:]\n"
     ]
    }
   ],
   "source": [
    "%cd EMEF_new\n",
    "!ls"
   ]
  },
  {
   "cell_type": "code",
   "execution_count": 34,
   "metadata": {},
   "outputs": [
    {
     "name": "stdout",
     "output_type": "stream",
     "text": [
      "On branch main\n",
      "Your branch is up to date with 'origin/main'.\n",
      "\n",
      "Changes to be committed:\n",
      "  (use \"git restore --staged <file>...\" to unstage)\n",
      "\t\u001b[32mnew file:   real_data/IMG_20240413_143928_10_326.jpg\u001b[m\n",
      "\t\u001b[32mnew file:   real_data/IMG_20240413_143928_10_327.jpg\u001b[m\n",
      "\t\u001b[32mnew file:   real_data/IMG_20240413_143928_10_328.jpg\u001b[m\n",
      "\t\u001b[32mnew file:   real_data/IMG_20240413_143928_10_329.jpg\u001b[m\n",
      "\t\u001b[32mnew file:   real_data/IMG_20240413_143928_10_330.jpg\u001b[m\n",
      "\t\u001b[32mnew file:   real_data/gr_truth.jpg\u001b[m\n",
      "\t\u001b[32mnew file:   test_data/fake/chairs.jpg\u001b[m\n",
      "\t\u001b[32mnew file:   test_data/oe/chairs.jpg\u001b[m\n",
      "\t\u001b[32mnew file:   test_data/ue/chairs.jpg\u001b[m\n",
      "\n"
     ]
    }
   ],
   "source": [
    "!git status\n",
    "! git add ."
   ]
  },
  {
   "cell_type": "code",
   "execution_count": 36,
   "metadata": {},
   "outputs": [],
   "source": [
    "!sh /workspace/.git_init"
   ]
  },
  {
   "cell_type": "code",
   "execution_count": 39,
   "metadata": {},
   "outputs": [
    {
     "name": "stdout",
     "output_type": "stream",
     "text": [
      "/workspace/pix2pix/notebooks/Dat/10/EMEF_new\n"
     ]
    }
   ],
   "source": [
    "!pwd"
   ]
  },
  {
   "cell_type": "code",
   "execution_count": 37,
   "metadata": {},
   "outputs": [
    {
     "name": "stdout",
     "output_type": "stream",
     "text": [
      "On branch main\n",
      "Your branch is up to date with 'origin/main'.\n",
      "\n",
      "Changes to be committed:\n",
      "  (use \"git restore --staged <file>...\" to unstage)\n",
      "\t\u001b[32mnew file:   real_data/IMG_20240413_143928_10_326.jpg\u001b[m\n",
      "\t\u001b[32mnew file:   real_data/IMG_20240413_143928_10_327.jpg\u001b[m\n",
      "\t\u001b[32mnew file:   real_data/IMG_20240413_143928_10_328.jpg\u001b[m\n",
      "\t\u001b[32mnew file:   real_data/IMG_20240413_143928_10_329.jpg\u001b[m\n",
      "\t\u001b[32mnew file:   real_data/IMG_20240413_143928_10_330.jpg\u001b[m\n",
      "\t\u001b[32mnew file:   real_data/gr_truth.jpg\u001b[m\n",
      "\t\u001b[32mnew file:   test_data/fake/chairs.jpg\u001b[m\n",
      "\t\u001b[32mnew file:   test_data/oe/chairs.jpg\u001b[m\n",
      "\t\u001b[32mnew file:   test_data/ue/chairs.jpg\u001b[m\n",
      "\n",
      "[main aaebd1d] add example data\n",
      " 9 files changed, 0 insertions(+), 0 deletions(-)\n",
      " create mode 100644 real_data/IMG_20240413_143928_10_326.jpg\n",
      " create mode 100644 real_data/IMG_20240413_143928_10_327.jpg\n",
      " create mode 100644 real_data/IMG_20240413_143928_10_328.jpg\n",
      " create mode 100644 real_data/IMG_20240413_143928_10_329.jpg\n",
      " create mode 100644 real_data/IMG_20240413_143928_10_330.jpg\n",
      " create mode 100644 real_data/gr_truth.jpg\n",
      " create mode 100644 test_data/fake/chairs.jpg\n",
      " create mode 100644 test_data/oe/chairs.jpg\n",
      " create mode 100644 test_data/ue/chairs.jpg\n",
      "Username for 'https://github.com': ^C\n"
     ]
    }
   ],
   "source": [
    "! git status\n",
    "!git commit -m \"add example data\" && git push origin main"
   ]
  }
 ],
 "metadata": {
  "kernelspec": {
   "display_name": "Python 3",
   "language": "python",
   "name": "python3"
  },
  "language_info": {
   "codemirror_mode": {
    "name": "ipython",
    "version": 3
   },
   "file_extension": ".py",
   "mimetype": "text/x-python",
   "name": "python",
   "nbconvert_exporter": "python",
   "pygments_lexer": "ipython3",
   "version": "3.10.12"
  }
 },
 "nbformat": 4,
 "nbformat_minor": 2
}
